{
 "cells": [
  {
   "cell_type": "markdown",
   "id": "0b4285e3",
   "metadata": {
    "lines_to_next_cell": 2
   },
   "source": [
    "# Conditional Diffusion Probabilistic Model (CDPM) for 3D Images generation\n",
    "\n",
    "This tutorial illustrates how to use MONAI for training a 2D CDPM[1] for 3D images generation.\n",
    "\n",
    "[1] - [Peng et al. \"Generating Realistic 3D Brain MRIs Using a Conditional Diffusion Probabilistic Model\"](https://arxiv.org/abs/2212.08034)"
   ]
  },
  {
   "cell_type": "code",
   "execution_count": 1,
   "id": "00eefb33",
   "metadata": {},
   "outputs": [
    {
     "name": "stdout",
     "output_type": "stream",
     "text": [
      "MONAI version: 1.1.0\n",
      "Numpy version: 1.21.6\n",
      "Pytorch version: 1.12.1+cu113\n",
      "MONAI flags: HAS_EXT = False, USE_COMPILED = False, USE_META_DICT = False\n",
      "MONAI rev id: a2ec3752f54bfc3b40e7952234fbeb5452ed63e3\n",
      "MONAI __file__: /home/Nobias/.local/lib/python3.7/site-packages/monai/__init__.py\n",
      "\n",
      "Optional dependencies:\n",
      "Pytorch Ignite version: NOT INSTALLED or UNKNOWN VERSION.\n",
      "Nibabel version: 4.0.2\n",
      "scikit-image version: 0.19.3\n",
      "Pillow version: 9.3.0\n",
      "Tensorboard version: NOT INSTALLED or UNKNOWN VERSION.\n",
      "gdown version: NOT INSTALLED or UNKNOWN VERSION.\n",
      "TorchVision version: 0.13.1+cu113\n",
      "tqdm version: 4.64.1\n",
      "lmdb version: NOT INSTALLED or UNKNOWN VERSION.\n",
      "psutil version: 5.9.3\n",
      "pandas version: 1.3.5\n",
      "einops version: 0.6.0\n",
      "transformers version: NOT INSTALLED or UNKNOWN VERSION.\n",
      "mlflow version: NOT INSTALLED or UNKNOWN VERSION.\n",
      "pynrrd version: NOT INSTALLED or UNKNOWN VERSION.\n",
      "\n",
      "For details about installing the optional dependencies, please visit:\n",
      "    https://docs.monai.io/en/latest/installation.html#installing-the-recommended-dependencies\n",
      "\n"
     ]
    }
   ],
   "source": [
    "# Copyright 2020 MONAI Consortium\n",
    "# Licensed under the Apache License, Version 2.0 (the \"License\");\n",
    "# you may not use this file except in compliance with the License.\n",
    "# You may obtain a copy of the License at\n",
    "#     http://www.apache.org/licenses/LICENSE-2.0\n",
    "# Unless required by applicable law or agreed to in writing, software\n",
    "# distributed under the License is distributed on an \"AS IS\" BASIS,\n",
    "# WITHOUT WARRANTIES OR CONDITIONS OF ANY KIND, either express or implied.\n",
    "# See the License for the specific language governing permissions and\n",
    "# limitations under the License.\n",
    "import os\n",
    "import tempfile\n",
    "import time\n",
    "\n",
    "import matplotlib.pyplot as plt\n",
    "import numpy as np\n",
    "import torch\n",
    "import torch.nn.functional as F\n",
    "from monai.apps import DecathlonDataset\n",
    "from monai.config import print_config\n",
    "from monai.data import DataLoader\n",
    "from monai.transforms import AddChanneld, CenterSpatialCropd, Compose, Lambdad, LoadImaged, Resized, ScaleIntensityd\n",
    "from monai.utils import set_determinism\n",
    "from torch.cuda.amp import GradScaler, autocast\n",
    "from tqdm import tqdm\n",
    "\n",
    "from generative.inferers import DiffusionInferer\n",
    "\n",
    "# TODO: Add right import reference after deployed\n",
    "from generative.networks.nets.cdpm import UNet_2Plus1_Model\n",
    "from generative.networks.schedulers import DDPMScheduler\n",
    "\n",
    "print_config()"
   ]
  },
  {
   "cell_type": "code",
   "execution_count": 2,
   "id": "e692a50a",
   "metadata": {},
   "outputs": [
    {
     "name": "stdout",
     "output_type": "stream",
     "text": [
      "True\n"
     ]
    }
   ],
   "source": [
    "print(torch.cuda.is_available())"
   ]
  },
  {
   "cell_type": "markdown",
   "id": "e6a4ca0e",
   "metadata": {
    "lines_to_next_cell": 2
   },
   "source": [
    "## Setup data directory\n",
    "\n",
    "You can specify a directory with the MONAI_DATA_DIRECTORY environment variable.\n",
    "\n",
    "This allows you to save results and reuse downloads.\n",
    "\n",
    "If not specified a temporary directory will be used."
   ]
  },
  {
   "cell_type": "code",
   "execution_count": 3,
   "id": "4fc6c2f9",
   "metadata": {
    "MONAI_DATA_DIRECTORY": "/home/Nobias/data/MONAI_DATA_DIRECTORY/",
    "title": "export"
   },
   "outputs": [
    {
     "name": "stdout",
     "output_type": "stream",
     "text": [
      "/home/Nobias/data/MONAI_DATA_DIRECTORY\n"
     ]
    }
   ],
   "source": [
    "directory = os.environ.get(\"MONAI_DATA_DIRECTORY\")\n",
    "directory = '/home/Nobias/data/MONAI_DATA_DIRECTORY'\n",
    "root_dir = tempfile.mkdtemp() if directory is None else directory\n",
    "print(root_dir)"
   ]
  },
  {
   "cell_type": "markdown",
   "id": "a342ff79",
   "metadata": {},
   "source": [
    "## Set deterministic training for reproducibility"
   ]
  },
  {
   "cell_type": "code",
   "execution_count": 4,
   "id": "1e1b3bd0",
   "metadata": {},
   "outputs": [],
   "source": [
    "set_determinism(0)"
   ]
  },
  {
   "cell_type": "markdown",
   "id": "572e8caf",
   "metadata": {},
   "source": [
    "## Setup Decathlon Dataset and training and validation dataloaders"
   ]
  },
  {
   "cell_type": "code",
   "execution_count": 5,
   "id": "399ab576",
   "metadata": {},
   "outputs": [
    {
     "name": "stderr",
     "output_type": "stream",
     "text": [
      "/home/Nobias/.local/lib/python3.7/site-packages/monai/utils/deprecate_utils.py:107: FutureWarning: <class 'monai.transforms.utility.array.AddChannel'>: Class `AddChannel` has been deprecated since version 0.8. please use MetaTensor data type and monai.transforms.EnsureChannelFirst instead.\n",
      "  warn_deprecated(obj, msg, warning_category)\n"
     ]
    }
   ],
   "source": [
    "train_transform = Compose(\n",
    "    [\n",
    "        LoadImaged(keys=[\"image\"]),\n",
    "        Lambdad(keys=\"image\", func=lambda x: x[:, :, :, 1]),\n",
    "        AddChanneld(keys=[\"image\"]),\n",
    "        ScaleIntensityd(keys=[\"image\"]),\n",
    "        CenterSpatialCropd(keys=[\"image\"], roi_size=[176, 224, 155]),\n",
    "        Resized(keys=[\"image\"], spatial_size=(32, 48, 32)),\n",
    "    ]\n",
    ")\n",
    "\n",
    "val_transform = Compose(\n",
    "    [\n",
    "        LoadImaged(keys=[\"image\"]),\n",
    "        Lambdad(keys=\"image\", func=lambda x: x[:, :, :, 1]),\n",
    "        AddChanneld(keys=[\"image\"]),\n",
    "        ScaleIntensityd(keys=[\"image\"]),\n",
    "        CenterSpatialCropd(keys=[\"image\"], roi_size=[176, 224, 155]),\n",
    "        Resized(keys=[\"image\"], spatial_size=(32, 48, 32)),\n",
    "    ]\n",
    ")"
   ]
  },
  {
   "cell_type": "code",
   "execution_count": 6,
   "id": "78113f5f",
   "metadata": {
    "lines_to_next_cell": 2,
    "title": "Task01_BrainTumour"
   },
   "outputs": [
    {
     "name": "stderr",
     "output_type": "stream",
     "text": [
      "Loading dataset: 100%|██████████████████████████████████████████████████████████████████████████████| 388/388 [04:59<00:00,  1.30it/s]\n",
      "Loading dataset: 100%|████████████████████████████████████████████████████████████████████████████████| 96/96 [01:14<00:00,  1.28it/s]\n"
     ]
    }
   ],
   "source": [
    "train_ds = DecathlonDataset(\n",
    "    root_dir=root_dir, task=\"Task01_BrainTumour\", transform=train_transform, section=\"training\", download=False\n",
    ")\n",
    "\n",
    "train_loader = DataLoader(train_ds, batch_size=2, shuffle=True, num_workers=1)\n",
    "\n",
    "val_ds = DecathlonDataset(\n",
    "    root_dir=root_dir, task=\"Task01_BrainTumour\", transform=val_transform, section=\"validation\", download=False\n",
    ")\n",
    "\n",
    "val_loader = DataLoader(val_ds, batch_size=20, shuffle=False, num_workers=1)"
   ]
  },
  {
   "cell_type": "markdown",
   "id": "7c896e0a",
   "metadata": {},
   "source": [
    "### Visualization of the training images\n"
   ]
  },
  {
   "cell_type": "code",
   "execution_count": 7,
   "id": "e9e117a7",
   "metadata": {},
   "outputs": [
    {
     "data": {
      "image/png": "[encoded data removed]",
      "text/plain": [
       "<Figure size 1000x600 with 4 Axes>"
      ]
     },
     "metadata": {},
     "output_type": "display_data"
    }
   ],
   "source": [
    "plt.subplots(1, 4, figsize=(10, 6))\n",
    "for i in range(4):\n",
    "    plt.subplot(1, 4, i + 1)\n",
    "    plt.imshow(train_ds[i * 20][\"image\"][0, :, :, 15].detach().cpu(), vmin=0, vmax=1, cmap=\"gray\")\n",
    "    plt.axis(\"off\")\n",
    "plt.tight_layout()\n",
    "plt.show()"
   ]
  },
  {
   "cell_type": "markdown",
   "id": "1c8fa6ab",
   "metadata": {},
   "source": [
    "### Define network, scheduler, optimizer, and inferer"
   ]
  },
  {
   "cell_type": "code",
   "execution_count": 8,
   "id": "5a32be9f",
   "metadata": {
    "lines_to_next_cell": 2
   },
   "outputs": [],
   "source": [
    "device = torch.device(\"cuda\")\n",
    "\n",
    "model = UNet_2Plus1_Model(\n",
    "    in_channels=1,\n",
    "    out_channels=1,\n",
    "    model_channels=128,\n",
    "    attention_resolutions=[16, 8],\n",
    "    num_res_blocks=2,\n",
    "    channel_mult=[1, 1, 2, 4],\n",
    "    num_heads=1,\n",
    ")\n",
    "model.to(device)\n",
    "\n",
    "scheduler = DDPMScheduler(num_train_timesteps=1000)\n",
    "\n",
    "inferer = DiffusionInferer(scheduler)\n",
    "\n",
    "optimizer = torch.optim.Adam(params=model.parameters(), lr=2.5e-5)"
   ]
  },
  {
   "cell_type": "markdown",
   "id": "5ae4f2c7",
   "metadata": {},
   "source": [
    "### Model training\n",
    "##### Take longer to converge as we have much more traning combinations."
   ]
  },
  {
   "cell_type": "code",
   "execution_count": 9,
   "id": "b28d46a4",
   "metadata": {
    "lines_to_next_cell": 0
   },
   "outputs": [
    {
     "name": "stderr",
     "output_type": "stream",
     "text": [
      "Epoch 0: 100%|██████████| 194/194 [01:52<00:00,  1.72it/s, loss=0.486]\n"
     ]
    },
    {
     "name": "stdout",
     "output_type": "stream",
     "text": [
      "Conditioning on [0] slices, predicting [1, 2, 3, 4, 5, 6, 7, 8, 9, 10, 11, 12, 13, 14, 15].\n"
     ]
    },
    {
     "name": "stderr",
     "output_type": "stream",
     "text": [
      "100%|████████████████████████████████████████████████████████████████████████████| 1000/1000 [01:03<00:00, 15.72it/s]\n"
     ]
    },
    {
     "name": "stdout",
     "output_type": "stream",
     "text": [
      "shape torch.Size([1, 15, 1, 32, 48]), torch.Size([15, 1, 32, 48])\n",
      "Conditioning on [8, 9, 10, 11, 12, 13, 14, 15] slices, predicting [16, 17, 18, 19, 20, 21, 22, 23].\n"
     ]
    },
    {
     "name": "stderr",
     "output_type": "stream",
     "text": [
      "100%|████████████████████████████████████████████████████████████████████████████| 1000/1000 [01:03<00:00, 15.70it/s]\n"
     ]
    },
    {
     "name": "stdout",
     "output_type": "stream",
     "text": [
      "shape torch.Size([1, 8, 1, 32, 48]), torch.Size([8, 1, 32, 48])\n",
      "Conditioning on [16, 17, 18, 19, 20, 21, 22, 23] slices, predicting [24, 25, 26, 27, 28, 29, 30, 31].\n"
     ]
    },
    {
     "name": "stderr",
     "output_type": "stream",
     "text": [
      "100%|████████████████████████████████████████████████████████████████████████████| 1000/1000 [01:03<00:00, 15.78it/s]\n"
     ]
    },
    {
     "name": "stdout",
     "output_type": "stream",
     "text": [
      "shape torch.Size([1, 8, 1, 32, 48]), torch.Size([8, 1, 32, 48])\n"
     ]
    },
    {
     "data": {
      "image/png": "[encoded data removed]",
      "text/plain": [
       "<Figure size 200x200 with 1 Axes>"
      ]
     },
     "metadata": {},
     "output_type": "display_data"
    },
    {
     "name": "stderr",
     "output_type": "stream",
     "text": [
      "Epoch 1: 100%|██████████| 194/194 [01:51<00:00,  1.74it/s, loss=0.434]\n",
      "Epoch 2: 100%|███████████| 194/194 [01:51<00:00,  1.74it/s, loss=0.41]\n",
      "Epoch 3: 100%|██████████| 194/194 [01:50<00:00,  1.75it/s, loss=0.393]\n",
      "Epoch 4: 100%|███████████| 194/194 [01:52<00:00,  1.73it/s, loss=0.38]\n",
      "Epoch 5: 100%|████████████| 194/194 [01:52<00:00,  1.73it/s, loss=0.4]\n",
      "Epoch 6: 100%|██████████| 194/194 [01:52<00:00,  1.73it/s, loss=0.387]\n",
      "Epoch 7: 100%|██████████| 194/194 [01:51<00:00,  1.73it/s, loss=0.383]\n",
      "Epoch 8: 100%|██████████| 194/194 [01:51<00:00,  1.73it/s, loss=0.386]\n",
      "Epoch 9: 100%|██████████| 194/194 [01:51<00:00,  1.73it/s, loss=0.371]\n",
      "Epoch 10: 100%|█████████| 194/194 [01:50<00:00,  1.75it/s, loss=0.377]\n",
      "Epoch 11: 100%|█████████| 194/194 [01:51<00:00,  1.73it/s, loss=0.363]\n",
      "Epoch 12: 100%|█████████| 194/194 [01:51<00:00,  1.74it/s, loss=0.384]\n",
      "Epoch 13: 100%|█████████| 194/194 [01:51<00:00,  1.74it/s, loss=0.385]\n",
      "Epoch 14: 100%|█████████| 194/194 [01:51<00:00,  1.73it/s, loss=0.363]\n",
      "Epoch 15: 100%|██████████| 194/194 [01:51<00:00,  1.74it/s, loss=0.35]\n",
      "Epoch 16: 100%|█████████| 194/194 [01:52<00:00,  1.73it/s, loss=0.368]\n",
      "Epoch 17: 100%|█████████| 194/194 [01:51<00:00,  1.74it/s, loss=0.381]\n",
      "Epoch 18: 100%|█████████| 194/194 [01:50<00:00,  1.76it/s, loss=0.356]\n",
      "Epoch 19: 100%|█████████| 194/194 [01:52<00:00,  1.73it/s, loss=0.344]\n",
      "Epoch 20: 100%|█████████| 194/194 [01:51<00:00,  1.73it/s, loss=0.352]\n",
      "Epoch 21: 100%|█████████| 194/194 [01:52<00:00,  1.73it/s, loss=0.344]\n",
      "Epoch 22: 100%|█████████| 194/194 [01:51<00:00,  1.74it/s, loss=0.331]\n",
      "Epoch 23: 100%|█████████| 194/194 [01:51<00:00,  1.74it/s, loss=0.353]\n",
      "Epoch 24: 100%|█████████| 194/194 [01:52<00:00,  1.73it/s, loss=0.346]\n",
      "Epoch 25: 100%|█████████| 194/194 [01:51<00:00,  1.74it/s, loss=0.342]\n",
      "Epoch 26: 100%|█████████| 194/194 [01:51<00:00,  1.74it/s, loss=0.353]\n",
      "Epoch 27: 100%|██████████| 194/194 [01:51<00:00,  1.74it/s, loss=0.33]\n",
      "Epoch 28: 100%|█████████| 194/194 [01:51<00:00,  1.74it/s, loss=0.337]\n",
      "Epoch 29: 100%|█████████| 194/194 [01:51<00:00,  1.74it/s, loss=0.328]\n",
      "Epoch 30: 100%|█████████| 194/194 [01:51<00:00,  1.74it/s, loss=0.363]\n",
      "Epoch 31: 100%|█████████| 194/194 [01:52<00:00,  1.73it/s, loss=0.342]\n",
      "Epoch 32: 100%|█████████| 194/194 [01:51<00:00,  1.74it/s, loss=0.343]\n",
      "Epoch 33: 100%|█████████| 194/194 [01:51<00:00,  1.73it/s, loss=0.337]\n",
      "Epoch 34: 100%|█████████| 194/194 [01:52<00:00,  1.72it/s, loss=0.333]\n",
      "Epoch 35: 100%|█████████| 194/194 [01:51<00:00,  1.74it/s, loss=0.315]\n",
      "Epoch 36: 100%|█████████| 194/194 [01:52<00:00,  1.73it/s, loss=0.332]\n",
      "Epoch 37: 100%|█████████| 194/194 [01:51<00:00,  1.73it/s, loss=0.291]\n",
      "Epoch 38: 100%|█████████| 194/194 [01:51<00:00,  1.74it/s, loss=0.321]\n",
      "Epoch 39: 100%|█████████| 194/194 [01:51<00:00,  1.73it/s, loss=0.313]\n",
      "Epoch 40: 100%|███████████| 194/194 [01:51<00:00,  1.74it/s, loss=0.3]\n",
      "Epoch 41: 100%|█████████| 194/194 [01:52<00:00,  1.73it/s, loss=0.294]\n",
      "Epoch 42: 100%|█████████| 194/194 [01:51<00:00,  1.73it/s, loss=0.317]\n",
      "Epoch 43: 100%|█████████| 194/194 [01:51<00:00,  1.74it/s, loss=0.305]\n",
      "Epoch 44: 100%|█████████| 194/194 [01:52<00:00,  1.73it/s, loss=0.332]\n",
      "Epoch 45: 100%|█████████| 194/194 [01:51<00:00,  1.74it/s, loss=0.307]\n",
      "Epoch 46: 100%|█████████| 194/194 [01:51<00:00,  1.74it/s, loss=0.293]\n",
      "Epoch 47: 100%|█████████| 194/194 [01:51<00:00,  1.74it/s, loss=0.307]\n",
      "Epoch 48: 100%|█████████| 194/194 [01:51<00:00,  1.74it/s, loss=0.288]\n",
      "Epoch 49: 100%|█████████| 194/194 [01:51<00:00,  1.73it/s, loss=0.299]\n",
      "Epoch 50: 100%|██████████| 194/194 [01:51<00:00,  1.73it/s, loss=0.29]\n"
     ]
    },
    {
     "name": "stdout",
     "output_type": "stream",
     "text": [
      "Conditioning on [0] slices, predicting [1, 2, 3, 4, 5, 6, 7, 8, 9, 10, 11, 12, 13, 14, 15].\n"
     ]
    },
    {
     "name": "stderr",
     "output_type": "stream",
     "text": [
      "100%|████████████████████████████████████████████████████████████████████████████| 1000/1000 [01:03<00:00, 15.66it/s]\n"
     ]
    },
    {
     "name": "stdout",
     "output_type": "stream",
     "text": [
      "shape torch.Size([1, 15, 1, 32, 48]), torch.Size([15, 1, 32, 48])\n",
      "Conditioning on [8, 9, 10, 11, 12, 13, 14, 15] slices, predicting [16, 17, 18, 19, 20, 21, 22, 23].\n"
     ]
    },
    {
     "name": "stderr",
     "output_type": "stream",
     "text": [
      "100%|████████████████████████████████████████████████████████████████████████████| 1000/1000 [01:04<00:00, 15.60it/s]\n"
     ]
    },
    {
     "name": "stdout",
     "output_type": "stream",
     "text": [
      "shape torch.Size([1, 8, 1, 32, 48]), torch.Size([8, 1, 32, 48])\n",
      "Conditioning on [16, 17, 18, 19, 20, 21, 22, 23] slices, predicting [24, 25, 26, 27, 28, 29, 30, 31].\n"
     ]
    },
    {
     "name": "stderr",
     "output_type": "stream",
     "text": [
      "100%|████████████████████████████████████████████████████████████████████████████| 1000/1000 [01:03<00:00, 15.65it/s]\n"
     ]
    },
    {
     "name": "stdout",
     "output_type": "stream",
     "text": [
      "shape torch.Size([1, 8, 1, 32, 48]), torch.Size([8, 1, 32, 48])\n"
     ]
    },
    {
     "data": {
      "image/png": "[encoded data removed]",
      "text/plain": [
       "<Figure size 200x200 with 1 Axes>"
      ]
     },
     "metadata": {},
     "output_type": "display_data"
    },
    {
     "name": "stderr",
     "output_type": "stream",
     "text": [
      "Epoch 51: 100%|█████████| 194/194 [01:51<00:00,  1.74it/s, loss=0.307]\n",
      "Epoch 52: 100%|█████████| 194/194 [01:52<00:00,  1.73it/s, loss=0.279]\n",
      "Epoch 53: 100%|██████████| 194/194 [01:52<00:00,  1.73it/s, loss=0.31]\n",
      "Epoch 54: 100%|█████████| 194/194 [01:52<00:00,  1.73it/s, loss=0.304]\n",
      "Epoch 55: 100%|█████████| 194/194 [01:51<00:00,  1.74it/s, loss=0.302]\n",
      "Epoch 56: 100%|█████████| 194/194 [01:52<00:00,  1.73it/s, loss=0.285]\n",
      "Epoch 57: 100%|█████████| 194/194 [01:51<00:00,  1.74it/s, loss=0.288]\n",
      "Epoch 58: 100%|█████████| 194/194 [01:52<00:00,  1.72it/s, loss=0.302]\n",
      "Epoch 59: 100%|█████████| 194/194 [01:51<00:00,  1.74it/s, loss=0.286]\n",
      "Epoch 60: 100%|█████████| 194/194 [01:51<00:00,  1.74it/s, loss=0.302]\n",
      "Epoch 61: 100%|██████████| 194/194 [01:51<00:00,  1.73it/s, loss=0.28]\n",
      "Epoch 62: 100%|█████████| 194/194 [01:51<00:00,  1.73it/s, loss=0.323]\n",
      "Epoch 63: 100%|█████████| 194/194 [01:51<00:00,  1.73it/s, loss=0.305]\n",
      "Epoch 64: 100%|█████████| 194/194 [01:51<00:00,  1.73it/s, loss=0.299]\n",
      "Epoch 65: 100%|█████████| 194/194 [01:52<00:00,  1.73it/s, loss=0.302]\n",
      "Epoch 66: 100%|█████████| 194/194 [01:52<00:00,  1.73it/s, loss=0.277]\n",
      "Epoch 67: 100%|█████████| 194/194 [01:51<00:00,  1.74it/s, loss=0.299]\n",
      "Epoch 68: 100%|█████████| 194/194 [01:51<00:00,  1.74it/s, loss=0.281]\n",
      "Epoch 69: 100%|█████████| 194/194 [01:52<00:00,  1.73it/s, loss=0.296]\n",
      "Epoch 70: 100%|█████████| 194/194 [01:52<00:00,  1.73it/s, loss=0.273]\n",
      "Epoch 71: 100%|█████████| 194/194 [01:51<00:00,  1.74it/s, loss=0.282]\n",
      "Epoch 72: 100%|█████████| 194/194 [01:51<00:00,  1.74it/s, loss=0.278]\n",
      "Epoch 73: 100%|███████████| 194/194 [01:52<00:00,  1.73it/s, loss=0.3]\n",
      "Epoch 74: 100%|█████████| 194/194 [01:52<00:00,  1.73it/s, loss=0.289]\n",
      "Epoch 75: 100%|█████████| 194/194 [01:52<00:00,  1.73it/s, loss=0.272]\n",
      "Epoch 76: 100%|█████████| 194/194 [01:51<00:00,  1.73it/s, loss=0.308]\n",
      "Epoch 77: 100%|█████████| 194/194 [01:51<00:00,  1.73it/s, loss=0.274]\n",
      "Epoch 78: 100%|█████████| 194/194 [01:51<00:00,  1.73it/s, loss=0.266]\n",
      "Epoch 79: 100%|█████████| 194/194 [01:51<00:00,  1.74it/s, loss=0.277]\n",
      "Epoch 80: 100%|█████████| 194/194 [01:51<00:00,  1.74it/s, loss=0.257]\n",
      "Epoch 81: 100%|█████████| 194/194 [01:51<00:00,  1.73it/s, loss=0.285]\n",
      "Epoch 82: 100%|█████████| 194/194 [01:51<00:00,  1.73it/s, loss=0.278]\n",
      "Epoch 83: 100%|█████████| 194/194 [01:52<00:00,  1.73it/s, loss=0.283]\n",
      "Epoch 84: 100%|█████████| 194/194 [01:51<00:00,  1.74it/s, loss=0.272]\n",
      "Epoch 85: 100%|█████████| 194/194 [01:52<00:00,  1.73it/s, loss=0.291]\n",
      "Epoch 86: 100%|█████████| 194/194 [01:51<00:00,  1.74it/s, loss=0.269]\n",
      "Epoch 87: 100%|█████████| 194/194 [01:51<00:00,  1.73it/s, loss=0.288]\n",
      "Epoch 88: 100%|█████████| 194/194 [01:52<00:00,  1.72it/s, loss=0.287]\n",
      "Epoch 89: 100%|█████████| 194/194 [01:51<00:00,  1.74it/s, loss=0.243]\n",
      "Epoch 90: 100%|█████████| 194/194 [01:51<00:00,  1.74it/s, loss=0.264]\n",
      "Epoch 91: 100%|█████████| 194/194 [01:52<00:00,  1.72it/s, loss=0.274]\n",
      "Epoch 92: 100%|█████████| 194/194 [01:51<00:00,  1.74it/s, loss=0.277]\n",
      "Epoch 93: 100%|█████████| 194/194 [01:52<00:00,  1.73it/s, loss=0.279]\n",
      "Epoch 94: 100%|█████████| 194/194 [01:51<00:00,  1.74it/s, loss=0.251]\n",
      "Epoch 95: 100%|█████████| 194/194 [01:51<00:00,  1.73it/s, loss=0.278]\n",
      "Epoch 96: 100%|█████████| 194/194 [01:51<00:00,  1.74it/s, loss=0.278]\n",
      "Epoch 97: 100%|█████████| 194/194 [01:51<00:00,  1.74it/s, loss=0.264]\n",
      "Epoch 98: 100%|█████████| 194/194 [01:51<00:00,  1.73it/s, loss=0.261]\n",
      "Epoch 99: 100%|█████████| 194/194 [01:51<00:00,  1.73it/s, loss=0.253]\n",
      "Epoch 100: 100%|████████| 194/194 [01:51<00:00,  1.74it/s, loss=0.256]\n"
     ]
    },
    {
     "name": "stdout",
     "output_type": "stream",
     "text": [
      "Conditioning on [0] slices, predicting [1, 2, 3, 4, 5, 6, 7, 8, 9, 10, 11, 12, 13, 14, 15].\n"
     ]
    },
    {
     "name": "stderr",
     "output_type": "stream",
     "text": [
      "100%|████████████████████████████████████████████████████████████████████████████| 1000/1000 [01:03<00:00, 15.67it/s]\n"
     ]
    },
    {
     "name": "stdout",
     "output_type": "stream",
     "text": [
      "shape torch.Size([1, 15, 1, 32, 48]), torch.Size([15, 1, 32, 48])\n",
      "Conditioning on [8, 9, 10, 11, 12, 13, 14, 15] slices, predicting [16, 17, 18, 19, 20, 21, 22, 23].\n"
     ]
    },
    {
     "name": "stderr",
     "output_type": "stream",
     "text": [
      "100%|████████████████████████████████████████████████████████████████████████████| 1000/1000 [01:04<00:00, 15.55it/s]\n"
     ]
    },
    {
     "name": "stdout",
     "output_type": "stream",
     "text": [
      "shape torch.Size([1, 8, 1, 32, 48]), torch.Size([8, 1, 32, 48])\n",
      "Conditioning on [16, 17, 18, 19, 20, 21, 22, 23] slices, predicting [24, 25, 26, 27, 28, 29, 30, 31].\n"
     ]
    },
    {
     "name": "stderr",
     "output_type": "stream",
     "text": [
      "100%|████████████████████████████████████████████████████████████████████████████| 1000/1000 [01:04<00:00, 15.58it/s]\n"
     ]
    },
    {
     "name": "stdout",
     "output_type": "stream",
     "text": [
      "shape torch.Size([1, 8, 1, 32, 48]), torch.Size([8, 1, 32, 48])\n"
     ]
    },
    {
     "data": {
      "image/png": "[encoded data removed]",
      "text/plain": [
       "<Figure size 200x200 with 1 Axes>"
      ]
     },
     "metadata": {},
     "output_type": "display_data"
    },
    {
     "name": "stderr",
     "output_type": "stream",
     "text": [
      "Epoch 101:  16%|█▍       | 32/194 [00:18<01:36,  1.69it/s, loss=0.303]\n"
     ]
    },
    {
     "ename": "KeyboardInterrupt",
     "evalue": "",
     "output_type": "error",
     "traceback": [
      "\u001b[0;31m---------------------------------------------------------------------------\u001b[0m",
      "\u001b[0;31mKeyboardInterrupt\u001b[0m                         Traceback (most recent call last)",
      "\u001b[0;32m/tmp/ipykernel_7241/533040399.py\u001b[0m in \u001b[0;36m<module>\u001b[0;34m\u001b[0m\n\u001b[1;32m     39\u001b[0m \u001b[0;34m\u001b[0m\u001b[0m\n\u001b[1;32m     40\u001b[0m         \u001b[0mscaler\u001b[0m\u001b[0;34m.\u001b[0m\u001b[0mscale\u001b[0m\u001b[0;34m(\u001b[0m\u001b[0mloss\u001b[0m\u001b[0;34m)\u001b[0m\u001b[0;34m.\u001b[0m\u001b[0mbackward\u001b[0m\u001b[0;34m(\u001b[0m\u001b[0;34m)\u001b[0m\u001b[0;34m\u001b[0m\u001b[0;34m\u001b[0m\u001b[0m\n\u001b[0;32m---> 41\u001b[0;31m         \u001b[0mscaler\u001b[0m\u001b[0;34m.\u001b[0m\u001b[0mstep\u001b[0m\u001b[0;34m(\u001b[0m\u001b[0moptimizer\u001b[0m\u001b[0;34m)\u001b[0m\u001b[0;34m\u001b[0m\u001b[0;34m\u001b[0m\u001b[0m\n\u001b[0m\u001b[1;32m     42\u001b[0m         \u001b[0mscaler\u001b[0m\u001b[0;34m.\u001b[0m\u001b[0mupdate\u001b[0m\u001b[0;34m(\u001b[0m\u001b[0;34m)\u001b[0m\u001b[0;34m\u001b[0m\u001b[0;34m\u001b[0m\u001b[0m\n\u001b[1;32m     43\u001b[0m \u001b[0;34m\u001b[0m\u001b[0m\n",
      "\u001b[0;32m/opt/conda/lib/python3.7/site-packages/torch/cuda/amp/grad_scaler.py\u001b[0m in \u001b[0;36mstep\u001b[0;34m(self, optimizer, *args, **kwargs)\u001b[0m\n\u001b[1;32m    336\u001b[0m         \u001b[0;32massert\u001b[0m \u001b[0mlen\u001b[0m\u001b[0;34m(\u001b[0m\u001b[0moptimizer_state\u001b[0m\u001b[0;34m[\u001b[0m\u001b[0;34m\"found_inf_per_device\"\u001b[0m\u001b[0;34m]\u001b[0m\u001b[0;34m)\u001b[0m \u001b[0;34m>\u001b[0m \u001b[0;36m0\u001b[0m\u001b[0;34m,\u001b[0m \u001b[0;34m\"No inf checks were recorded for this optimizer.\"\u001b[0m\u001b[0;34m\u001b[0m\u001b[0;34m\u001b[0m\u001b[0m\n\u001b[1;32m    337\u001b[0m \u001b[0;34m\u001b[0m\u001b[0m\n\u001b[0;32m--> 338\u001b[0;31m         \u001b[0mretval\u001b[0m \u001b[0;34m=\u001b[0m \u001b[0mself\u001b[0m\u001b[0;34m.\u001b[0m\u001b[0m_maybe_opt_step\u001b[0m\u001b[0;34m(\u001b[0m\u001b[0moptimizer\u001b[0m\u001b[0;34m,\u001b[0m \u001b[0moptimizer_state\u001b[0m\u001b[0;34m,\u001b[0m \u001b[0;34m*\u001b[0m\u001b[0margs\u001b[0m\u001b[0;34m,\u001b[0m \u001b[0;34m**\u001b[0m\u001b[0mkwargs\u001b[0m\u001b[0;34m)\u001b[0m\u001b[0;34m\u001b[0m\u001b[0;34m\u001b[0m\u001b[0m\n\u001b[0m\u001b[1;32m    339\u001b[0m \u001b[0;34m\u001b[0m\u001b[0m\n\u001b[1;32m    340\u001b[0m         \u001b[0moptimizer_state\u001b[0m\u001b[0;34m[\u001b[0m\u001b[0;34m\"stage\"\u001b[0m\u001b[0;34m]\u001b[0m \u001b[0;34m=\u001b[0m \u001b[0mOptState\u001b[0m\u001b[0;34m.\u001b[0m\u001b[0mSTEPPED\u001b[0m\u001b[0;34m\u001b[0m\u001b[0;34m\u001b[0m\u001b[0m\n",
      "\u001b[0;32m/opt/conda/lib/python3.7/site-packages/torch/cuda/amp/grad_scaler.py\u001b[0m in \u001b[0;36m_maybe_opt_step\u001b[0;34m(self, optimizer, optimizer_state, *args, **kwargs)\u001b[0m\n\u001b[1;32m    283\u001b[0m         \u001b[0mretval\u001b[0m \u001b[0;34m=\u001b[0m \u001b[0;32mNone\u001b[0m\u001b[0;34m\u001b[0m\u001b[0;34m\u001b[0m\u001b[0m\n\u001b[1;32m    284\u001b[0m         \u001b[0;32mif\u001b[0m \u001b[0;32mnot\u001b[0m \u001b[0msum\u001b[0m\u001b[0;34m(\u001b[0m\u001b[0mv\u001b[0m\u001b[0;34m.\u001b[0m\u001b[0mitem\u001b[0m\u001b[0;34m(\u001b[0m\u001b[0;34m)\u001b[0m \u001b[0;32mfor\u001b[0m \u001b[0mv\u001b[0m \u001b[0;32min\u001b[0m \u001b[0moptimizer_state\u001b[0m\u001b[0;34m[\u001b[0m\u001b[0;34m\"found_inf_per_device\"\u001b[0m\u001b[0;34m]\u001b[0m\u001b[0;34m.\u001b[0m\u001b[0mvalues\u001b[0m\u001b[0;34m(\u001b[0m\u001b[0;34m)\u001b[0m\u001b[0;34m)\u001b[0m\u001b[0;34m:\u001b[0m\u001b[0;34m\u001b[0m\u001b[0;34m\u001b[0m\u001b[0m\n\u001b[0;32m--> 285\u001b[0;31m             \u001b[0mretval\u001b[0m \u001b[0;34m=\u001b[0m \u001b[0moptimizer\u001b[0m\u001b[0;34m.\u001b[0m\u001b[0mstep\u001b[0m\u001b[0;34m(\u001b[0m\u001b[0;34m*\u001b[0m\u001b[0margs\u001b[0m\u001b[0;34m,\u001b[0m \u001b[0;34m**\u001b[0m\u001b[0mkwargs\u001b[0m\u001b[0;34m)\u001b[0m\u001b[0;34m\u001b[0m\u001b[0;34m\u001b[0m\u001b[0m\n\u001b[0m\u001b[1;32m    286\u001b[0m         \u001b[0;32mreturn\u001b[0m \u001b[0mretval\u001b[0m\u001b[0;34m\u001b[0m\u001b[0;34m\u001b[0m\u001b[0m\n\u001b[1;32m    287\u001b[0m \u001b[0;34m\u001b[0m\u001b[0m\n",
      "\u001b[0;32m/opt/conda/lib/python3.7/site-packages/torch/optim/optimizer.py\u001b[0m in \u001b[0;36mwrapper\u001b[0;34m(*args, **kwargs)\u001b[0m\n\u001b[1;32m    111\u001b[0m                 \u001b[0mprofile_name\u001b[0m \u001b[0;34m=\u001b[0m \u001b[0;34m\"Optimizer.step#{}.step\"\u001b[0m\u001b[0;34m.\u001b[0m\u001b[0mformat\u001b[0m\u001b[0;34m(\u001b[0m\u001b[0mobj\u001b[0m\u001b[0;34m.\u001b[0m\u001b[0m__class__\u001b[0m\u001b[0;34m.\u001b[0m\u001b[0m__name__\u001b[0m\u001b[0;34m)\u001b[0m\u001b[0;34m\u001b[0m\u001b[0;34m\u001b[0m\u001b[0m\n\u001b[1;32m    112\u001b[0m                 \u001b[0;32mwith\u001b[0m \u001b[0mtorch\u001b[0m\u001b[0;34m.\u001b[0m\u001b[0mautograd\u001b[0m\u001b[0;34m.\u001b[0m\u001b[0mprofiler\u001b[0m\u001b[0;34m.\u001b[0m\u001b[0mrecord_function\u001b[0m\u001b[0;34m(\u001b[0m\u001b[0mprofile_name\u001b[0m\u001b[0;34m)\u001b[0m\u001b[0;34m:\u001b[0m\u001b[0;34m\u001b[0m\u001b[0;34m\u001b[0m\u001b[0m\n\u001b[0;32m--> 113\u001b[0;31m                     \u001b[0;32mreturn\u001b[0m \u001b[0mfunc\u001b[0m\u001b[0;34m(\u001b[0m\u001b[0;34m*\u001b[0m\u001b[0margs\u001b[0m\u001b[0;34m,\u001b[0m \u001b[0;34m**\u001b[0m\u001b[0mkwargs\u001b[0m\u001b[0;34m)\u001b[0m\u001b[0;34m\u001b[0m\u001b[0;34m\u001b[0m\u001b[0m\n\u001b[0m\u001b[1;32m    114\u001b[0m             \u001b[0;32mreturn\u001b[0m \u001b[0mwrapper\u001b[0m\u001b[0;34m\u001b[0m\u001b[0;34m\u001b[0m\u001b[0m\n\u001b[1;32m    115\u001b[0m \u001b[0;34m\u001b[0m\u001b[0m\n",
      "\u001b[0;32m/opt/conda/lib/python3.7/site-packages/torch/autograd/grad_mode.py\u001b[0m in \u001b[0;36mdecorate_context\u001b[0;34m(*args, **kwargs)\u001b[0m\n\u001b[1;32m     25\u001b[0m         \u001b[0;32mdef\u001b[0m \u001b[0mdecorate_context\u001b[0m\u001b[0;34m(\u001b[0m\u001b[0;34m*\u001b[0m\u001b[0margs\u001b[0m\u001b[0;34m,\u001b[0m \u001b[0;34m**\u001b[0m\u001b[0mkwargs\u001b[0m\u001b[0;34m)\u001b[0m\u001b[0;34m:\u001b[0m\u001b[0;34m\u001b[0m\u001b[0;34m\u001b[0m\u001b[0m\n\u001b[1;32m     26\u001b[0m             \u001b[0;32mwith\u001b[0m \u001b[0mself\u001b[0m\u001b[0;34m.\u001b[0m\u001b[0mclone\u001b[0m\u001b[0;34m(\u001b[0m\u001b[0;34m)\u001b[0m\u001b[0;34m:\u001b[0m\u001b[0;34m\u001b[0m\u001b[0;34m\u001b[0m\u001b[0m\n\u001b[0;32m---> 27\u001b[0;31m                 \u001b[0;32mreturn\u001b[0m \u001b[0mfunc\u001b[0m\u001b[0;34m(\u001b[0m\u001b[0;34m*\u001b[0m\u001b[0margs\u001b[0m\u001b[0;34m,\u001b[0m \u001b[0;34m**\u001b[0m\u001b[0mkwargs\u001b[0m\u001b[0;34m)\u001b[0m\u001b[0;34m\u001b[0m\u001b[0;34m\u001b[0m\u001b[0m\n\u001b[0m\u001b[1;32m     28\u001b[0m         \u001b[0;32mreturn\u001b[0m \u001b[0mcast\u001b[0m\u001b[0;34m(\u001b[0m\u001b[0mF\u001b[0m\u001b[0;34m,\u001b[0m \u001b[0mdecorate_context\u001b[0m\u001b[0;34m)\u001b[0m\u001b[0;34m\u001b[0m\u001b[0;34m\u001b[0m\u001b[0m\n\u001b[1;32m     29\u001b[0m \u001b[0;34m\u001b[0m\u001b[0m\n",
      "\u001b[0;32m/opt/conda/lib/python3.7/site-packages/torch/optim/adam.py\u001b[0m in \u001b[0;36mstep\u001b[0;34m(self, closure)\u001b[0m\n\u001b[1;32m    169\u001b[0m                  \u001b[0mmaximize\u001b[0m\u001b[0;34m=\u001b[0m\u001b[0mgroup\u001b[0m\u001b[0;34m[\u001b[0m\u001b[0;34m'maximize'\u001b[0m\u001b[0;34m]\u001b[0m\u001b[0;34m,\u001b[0m\u001b[0;34m\u001b[0m\u001b[0;34m\u001b[0m\u001b[0m\n\u001b[1;32m    170\u001b[0m                  \u001b[0mforeach\u001b[0m\u001b[0;34m=\u001b[0m\u001b[0mgroup\u001b[0m\u001b[0;34m[\u001b[0m\u001b[0;34m'foreach'\u001b[0m\u001b[0;34m]\u001b[0m\u001b[0;34m,\u001b[0m\u001b[0;34m\u001b[0m\u001b[0;34m\u001b[0m\u001b[0m\n\u001b[0;32m--> 171\u001b[0;31m                  capturable=group['capturable'])\n\u001b[0m\u001b[1;32m    172\u001b[0m \u001b[0;34m\u001b[0m\u001b[0m\n\u001b[1;32m    173\u001b[0m         \u001b[0;32mreturn\u001b[0m \u001b[0mloss\u001b[0m\u001b[0;34m\u001b[0m\u001b[0;34m\u001b[0m\u001b[0m\n",
      "\u001b[0;32m/opt/conda/lib/python3.7/site-packages/torch/optim/adam.py\u001b[0m in \u001b[0;36madam\u001b[0;34m(params, grads, exp_avgs, exp_avg_sqs, max_exp_avg_sqs, state_steps, foreach, capturable, amsgrad, beta1, beta2, lr, weight_decay, eps, maximize)\u001b[0m\n\u001b[1;32m    224\u001b[0m          \u001b[0meps\u001b[0m\u001b[0;34m=\u001b[0m\u001b[0meps\u001b[0m\u001b[0;34m,\u001b[0m\u001b[0;34m\u001b[0m\u001b[0;34m\u001b[0m\u001b[0m\n\u001b[1;32m    225\u001b[0m          \u001b[0mmaximize\u001b[0m\u001b[0;34m=\u001b[0m\u001b[0mmaximize\u001b[0m\u001b[0;34m,\u001b[0m\u001b[0;34m\u001b[0m\u001b[0;34m\u001b[0m\u001b[0m\n\u001b[0;32m--> 226\u001b[0;31m          capturable=capturable)\n\u001b[0m\u001b[1;32m    227\u001b[0m \u001b[0;34m\u001b[0m\u001b[0m\n\u001b[1;32m    228\u001b[0m \u001b[0;34m\u001b[0m\u001b[0m\n",
      "\u001b[0;32m/opt/conda/lib/python3.7/site-packages/torch/optim/adam.py\u001b[0m in \u001b[0;36m_single_tensor_adam\u001b[0;34m(params, grads, exp_avgs, exp_avg_sqs, max_exp_avg_sqs, state_steps, amsgrad, beta1, beta2, lr, weight_decay, eps, maximize, capturable)\u001b[0m\n\u001b[1;32m    288\u001b[0m             \u001b[0mparam\u001b[0m\u001b[0;34m.\u001b[0m\u001b[0maddcdiv_\u001b[0m\u001b[0;34m(\u001b[0m\u001b[0mexp_avg\u001b[0m\u001b[0;34m,\u001b[0m \u001b[0mdenom\u001b[0m\u001b[0;34m)\u001b[0m\u001b[0;34m\u001b[0m\u001b[0;34m\u001b[0m\u001b[0m\n\u001b[1;32m    289\u001b[0m         \u001b[0;32melse\u001b[0m\u001b[0;34m:\u001b[0m\u001b[0;34m\u001b[0m\u001b[0;34m\u001b[0m\u001b[0m\n\u001b[0;32m--> 290\u001b[0;31m             \u001b[0mstep\u001b[0m \u001b[0;34m=\u001b[0m \u001b[0mstep_t\u001b[0m\u001b[0;34m.\u001b[0m\u001b[0mitem\u001b[0m\u001b[0;34m(\u001b[0m\u001b[0;34m)\u001b[0m\u001b[0;34m\u001b[0m\u001b[0;34m\u001b[0m\u001b[0m\n\u001b[0m\u001b[1;32m    291\u001b[0m \u001b[0;34m\u001b[0m\u001b[0m\n\u001b[1;32m    292\u001b[0m             \u001b[0mbias_correction1\u001b[0m \u001b[0;34m=\u001b[0m \u001b[0;36m1\u001b[0m \u001b[0;34m-\u001b[0m \u001b[0mbeta1\u001b[0m \u001b[0;34m**\u001b[0m \u001b[0mstep\u001b[0m\u001b[0;34m\u001b[0m\u001b[0;34m\u001b[0m\u001b[0m\n",
      "\u001b[0;31mKeyboardInterrupt\u001b[0m: "
     ]
    }
   ],
   "source": [
    "n_epochs = 200\n",
    "val_interval = 50\n",
    "epoch_loss_list = []\n",
    "val_epoch_loss_list = []\n",
    "\n",
    "scaler = GradScaler()\n",
    "total_start = time.time()\n",
    "for epoch in range(n_epochs):\n",
    "    model.train()\n",
    "    epoch_loss = 0\n",
    "    progress_bar = tqdm(enumerate(train_loader), total=len(train_loader), ncols=70)\n",
    "    progress_bar.set_description(f\"Epoch {epoch}\")\n",
    "    # At most sample 16 slices for each batch\n",
    "    max_frames=16\n",
    "    for step, batch in progress_bar:\n",
    "        images = batch[\"image\"].to(device)#[1, 1, 32, 48, 32]\n",
    "        images[...,0]=0. # Trick used to indicate where to start\n",
    "\n",
    "        ### Create images and context\n",
    "        # randomly sample next batch to fill the unused tensor\n",
    "        batch_1 = next(iter(train_loader))[\"image\"].to(device)\n",
    "        context = model.get_image_context(images.permute(0,4,1,2,3), batch_1.permute(0,4,1,2,3), max_frames)\n",
    "        # Create timesteps\n",
    "        timesteps = torch.randint(\n",
    "            0, inferer.scheduler.num_train_timesteps, (images.shape[0],), device=images.device\n",
    "        ).long()\n",
    "        optimizer.zero_grad(set_to_none=True)\n",
    "\n",
    "        with autocast(enabled=True):\n",
    "            # Generate random noise\n",
    "            images = context[-1]\n",
    "            noise = torch.randn_like(images).to(device)\n",
    "\n",
    "            # Get model prediction\n",
    "            # images = context[-1]\n",
    "            noise_pred = inferer(inputs=images, diffusion_model=model, noise=noise, timesteps=timesteps, condition=context)\n",
    "\n",
    "            loss = F.mse_loss(noise_pred.float(), noise.float())\n",
    "\n",
    "        scaler.scale(loss).backward()\n",
    "        scaler.step(optimizer)\n",
    "        scaler.update()\n",
    "\n",
    "        epoch_loss += loss.item()\n",
    "\n",
    "        progress_bar.set_postfix({\"loss\": epoch_loss / (step + 1)})\n",
    "    epoch_loss_list.append(epoch_loss / (step + 1))\n",
    "\n",
    "    if (epoch ) % val_interval == 0:\n",
    "        model.eval()\n",
    "        val_epoch_loss = 0\n",
    "        for step, batch in enumerate(val_loader):\n",
    "            images = batch[\"image\"].to(device)\n",
    "            images[...,0]=0.\n",
    "\n",
    "            batch_1 = next(iter(val_loader))[\"image\"].to(device)\n",
    "            context = model.get_image_context(images.permute(0,4,1,2,3), batch_1.permute(0,4,1,2,3), max_frames)\n",
    "            # Create timesteps\n",
    "            timesteps = torch.randint(\n",
    "                0, inferer.scheduler.num_train_timesteps, (images.shape[0],), device=images.device\n",
    "            ).long()\n",
    "\n",
    "            images = context[-1]\n",
    "            noise = torch.randn_like(images).to(device)\n",
    "            with torch.no_grad():\n",
    "                with autocast(enabled=True):\n",
    "                    noise_pred = inferer(inputs=images, diffusion_model=model, noise=noise, timesteps=timesteps, condition=context)\n",
    "                    val_loss = F.mse_loss(noise_pred.float(), noise.float())\n",
    "\n",
    "            val_epoch_loss += val_loss.item()\n",
    "            progress_bar.set_postfix({\"val_loss\": val_epoch_loss / (step + 1)})\n",
    "        val_epoch_loss_list.append(val_epoch_loss / (step + 1))\n",
    "\n",
    "        # Sampling image during training\n",
    "        done_frames = [0]\n",
    "        mri_length = 32\n",
    "        max_frames = 16\n",
    "        step_size = 8\n",
    "        Sample = torch.zeros((1, 32, 1, 32, 48)).to(device)\n",
    "        while len(done_frames)<mri_length:\n",
    "            obs_frame_indices, latent_frame_indices, obs_mask, latent_mask = model.next_indices(done_frames, mri_length, max_frames, step_size)\n",
    "            frame_indices = torch.cat([torch.tensor(obs_frame_indices), torch.tensor(latent_frame_indices)]).long()\n",
    "\n",
    "            sampled = Sample[:,frame_indices]\n",
    "            print(f'Conditioning on {sorted(obs_frame_indices)} slices, predicting {sorted(latent_frame_indices)}.')\n",
    "\n",
    "            sampled = sampled.to(device)\n",
    "            context = (frame_indices.view(1,-1).to(device), obs_mask.to(device), latent_mask.to(device), sampled)\n",
    "\n",
    "            scheduler.set_timesteps(num_inference_steps=1000)\n",
    "            done_frames = done_frames + latent_frame_indices\n",
    "            with autocast(enabled=True):\n",
    "                image = inferer.sample(input_noise=sampled, diffusion_model=model, scheduler=scheduler, conditioning=context)\n",
    "                img = image[:,len(obs_frame_indices):]\n",
    "                print(f'shape {img.shape}, {Sample[0,latent_frame_indices].shape}')\n",
    "                Sample[:,latent_frame_indices] = img\n",
    "\n",
    "        plt.figure(figsize=(2, 2))\n",
    "        plt.imshow(image[0,15, 0, :, :].cpu(), vmin=0, vmax=1, cmap=\"gray\")\n",
    "        plt.tight_layout()\n",
    "        plt.axis(\"off\")\n",
    "        plt.show()\n",
    "\n",
    "total_time = time.time() - total_start\n",
    "print(f\"train completed, total time: {total_time}.\")"
   ]
  },
  {
   "cell_type": "markdown",
   "id": "5fc01098",
   "metadata": {},
   "source": [
    "### Learning curves"
   ]
  },
  {
   "cell_type": "code",
   "execution_count": 10,
   "id": "980d6f58",
   "metadata": {},
   "outputs": [
    {
     "name": "stdout",
     "output_type": "stream",
     "text": [
      "[0.4864773461499165, 0.43385952618933216, 0.4103274059664343, 0.3932774242052098, 0.37972595058765607, 0.40020594492401046, 0.386953869277669, 0.3827735303142636, 0.38551762147048085, 0.37072832790232196, 0.3770226608846605, 0.36265878502241117, 0.3841928651498765, 0.38507465634149374, 0.36301448426603045, 0.3498402255558476, 0.36819205878628897, 0.3807560240792245, 0.35579510125302777, 0.343514986182611, 0.35242646080009715, 0.3437297113009335, 0.3313482161035243, 0.35312939558139783, 0.3459331321808481, 0.34172067921800714, 0.35333362720983547, 0.3295436045250942, 0.33692933357868, 0.327917997216441, 0.36267932957595156, 0.3415677099651897, 0.3427664413280094, 0.33656330952017577, 0.3330835050989672, 0.315041632996392, 0.3320941034051561, 0.2913210643167348, 0.32091206719273146, 0.31312115413626446, 0.2996846889865767, 0.2937865101338662, 0.31686120518704053, 0.3048381164823611, 0.3321807740889874, 0.3065842592071012, 0.2933129470065697, 0.3066430886842541, 0.28812271901934416, 0.29929238081592874, 0.2895196830642592, 0.3069801931221461, 0.2790153774711275, 0.31049635998674274, 0.30445824647994385, 0.3018787517836413, 0.2846190249643375, 0.28770923672109533, 0.30169517642904803, 0.2864231777559851, 0.3019604782775505, 0.28047697849034037, 0.32331123160793607, 0.3051010314951238, 0.29932651664946497, 0.30228833439423863, 0.2765358506711488, 0.298979310952511, 0.2813491785572362, 0.2957609073863816, 0.27344173642317043, 0.28152346699354575, 0.2779995043637212, 0.30001583199986476, 0.28887999802827835, 0.2719051296793923, 0.3075396027608016, 0.2743663485594017, 0.2657978218624887, 0.2767813688854581, 0.25738498860413267, 0.2846971163046114, 0.2777573862641128, 0.2825792966813771, 0.27242093091619385, 0.2912419997539717, 0.26853465346485067, 0.28846778931845096, 0.28695012740406795, 0.24286833006082123, 0.2635587319808522, 0.2744063977728185, 0.277087340457845, 0.27896156154342533, 0.2511399187454858, 0.2783305542447518, 0.2782644596450108, 0.26440609603659393, 0.26085501916936993, 0.2533290841683899, 0.2563372826606957]\n"
     ]
    }
   ],
   "source": [
    "print(epoch_loss_list)"
   ]
  },
  {
   "cell_type": "code",
   "execution_count": 11,
   "id": "9bc17329",
   "metadata": {},
   "outputs": [
    {
     "name": "stdout",
     "output_type": "stream",
     "text": [
      "[0.40903578996658324, 0.2832865506410599, 0.23934329748153688]\n"
     ]
    }
   ],
   "source": [
    "print(val_epoch_loss_list)"
   ]
  },
  {
   "cell_type": "code",
   "execution_count": 15,
   "id": "c54e5e2c",
   "metadata": {},
   "outputs": [
    {
     "data": {
      "image/png": "[encoded data removed]",
      "text/plain": [
       "<Figure size 640x480 with 1 Axes>"
      ]
     },
     "metadata": {},
     "output_type": "display_data"
    }
   ],
   "source": [
    "# plt.style.use(\"seaborn-v0_8\")\n",
    "n_epochs = 101\n",
    "plt.title(\"Learning Curves\", fontsize=20)\n",
    "plt.plot(np.linspace(1, n_epochs, n_epochs), epoch_loss_list, color=\"C0\", linewidth=2.0, label=\"Train\")\n",
    "plt.plot(\n",
    "    np.linspace(val_interval, n_epochs, int(n_epochs / val_interval)+1),\n",
    "    val_epoch_loss_list,\n",
    "    color=\"C1\",\n",
    "    linewidth=2.0,\n",
    "    label=\"Validation\",\n",
    ")\n",
    "plt.yticks(fontsize=12)\n",
    "plt.xticks(fontsize=12)\n",
    "plt.xlabel(\"Epochs\", fontsize=16)\n",
    "plt.ylabel(\"Loss\", fontsize=16)\n",
    "plt.legend(prop={\"size\": 14})\n",
    "plt.show()"
   ]
  },
  {
   "cell_type": "markdown",
   "id": "6df78259",
   "metadata": {},
   "source": [
    "### Plotting synthetic sample"
   ]
  },
  {
   "cell_type": "code",
   "execution_count": 17,
   "id": "433290d9",
   "metadata": {},
   "outputs": [
    {
     "name": "stdout",
     "output_type": "stream",
     "text": [
      "Conditioning on [0] slices, predicting [1, 2, 3, 4, 5, 6, 7, 8, 9, 10, 11, 12, 13, 14, 15].\n"
     ]
    },
    {
     "name": "stderr",
     "output_type": "stream",
     "text": [
      "100%|████████████████████████████████████████████████████████████████████████████| 1000/1000 [01:04<00:00, 15.60it/s]\n"
     ]
    },
    {
     "name": "stdout",
     "output_type": "stream",
     "text": [
      "shape torch.Size([1, 15, 1, 32, 48]), torch.Size([15, 1, 32, 48])\n",
      "Conditioning on [8, 9, 10, 11, 12, 13, 14, 15] slices, predicting [16, 17, 18, 19, 20, 21, 22, 23].\n"
     ]
    },
    {
     "name": "stderr",
     "output_type": "stream",
     "text": [
      "100%|████████████████████████████████████████████████████████████████████████████| 1000/1000 [01:04<00:00, 15.58it/s]\n"
     ]
    },
    {
     "name": "stdout",
     "output_type": "stream",
     "text": [
      "shape torch.Size([1, 8, 1, 32, 48]), torch.Size([8, 1, 32, 48])\n",
      "Conditioning on [16, 17, 18, 19, 20, 21, 22, 23] slices, predicting [24, 25, 26, 27, 28, 29, 30, 31].\n"
     ]
    },
    {
     "name": "stderr",
     "output_type": "stream",
     "text": [
      "100%|████████████████████████████████████████████████████████████████████████████| 1000/1000 [01:03<00:00, 15.74it/s]"
     ]
    },
    {
     "name": "stdout",
     "output_type": "stream",
     "text": [
      "shape torch.Size([1, 8, 1, 32, 48]), torch.Size([8, 1, 32, 48])\n"
     ]
    },
    {
     "name": "stderr",
     "output_type": "stream",
     "text": [
      "\n"
     ]
    }
   ],
   "source": [
    "# Sampling image during training\n",
    "done_frames = [0]\n",
    "mri_length = 32\n",
    "max_frames = 16\n",
    "step_size = 8\n",
    "Sample = torch.zeros((1, 32, 1, 32, 48)).to(device)\n",
    "while len(done_frames)<mri_length:\n",
    "    obs_frame_indices, latent_frame_indices, obs_mask, latent_mask = model.next_indices(done_frames, mri_length, max_frames, step_size)\n",
    "    frame_indices = torch.cat([torch.tensor(obs_frame_indices), torch.tensor(latent_frame_indices)]).long()\n",
    "\n",
    "    sampled = Sample[:,frame_indices]\n",
    "    print(f'Conditioning on {sorted(obs_frame_indices)} slices, predicting {sorted(latent_frame_indices)}.')\n",
    "\n",
    "    sampled = sampled.to(device)\n",
    "    context = (frame_indices.view(1,-1).to(device), obs_mask.to(device), latent_mask.to(device), sampled)\n",
    "\n",
    "    scheduler.set_timesteps(num_inference_steps=1000)\n",
    "    done_frames = done_frames + latent_frame_indices\n",
    "    with autocast(enabled=True):\n",
    "        image = inferer.sample(input_noise=sampled, diffusion_model=model, scheduler=scheduler, conditioning=context)\n",
    "        img = image[:,len(obs_frame_indices):]\n",
    "        print(f'shape {img.shape}, {Sample[0,latent_frame_indices].shape}')\n",
    "        Sample[:,latent_frame_indices] = img"
   ]
  },
  {
   "cell_type": "code",
   "execution_count": 24,
   "id": "4430ea9b",
   "metadata": {},
   "outputs": [],
   "source": [
    "Sample = Sample.permute(0,3,4,1,2)"
   ]
  },
  {
   "cell_type": "code",
   "execution_count": 27,
   "id": "f67ccdfe",
   "metadata": {},
   "outputs": [
    {
     "data": {
      "image/png": "[encoded data removed]",
      "text/plain": [
       "<Figure size 640x480 with 1 Axes>"
      ]
     },
     "metadata": {},
     "output_type": "display_data"
    }
   ],
   "source": [
    "\n",
    "plt.style.use(\"default\")\n",
    "plotting_image_0 = np.concatenate([Sample[0, 0, :, :, 15].cpu(), np.flipud(Sample[0, 0, :, 24, :].cpu().T)], axis=1)\n",
    "plotting_image_1 = np.concatenate([np.flipud(Sample[0, 0, 15, :, :].cpu().T), np.zeros((32, 32))], axis=1)\n",
    "plt.imshow(np.concatenate([plotting_image_0, plotting_image_1], axis=0), vmin=-2.0, vmax=4, cmap=\"gray\")\n",
    "plt.tight_layout()\n",
    "plt.axis(\"off\")\n",
    "plt.show()"
   ]
  }
 ],
 "metadata": {
  "jupytext": {
   "cell_metadata_filter": "-all",
   "formats": "auto:percent,ipynb",
   "main_language": "python",
   "notebook_metadata_filter": "-all"
  },
  "kernelspec": {
   "display_name": "Python 3 (ipykernel)",
   "language": "python",
   "name": "python3"
  },
  "language_info": {
   "codemirror_mode": {
    "name": "ipython",
    "version": 3
   },
   "file_extension": ".py",
   "mimetype": "text/x-python",
   "name": "python",
   "nbconvert_exporter": "python",
   "pygments_lexer": "ipython3",
   "version": "3.7.12"
  }
 },
 "nbformat": 4,
 "nbformat_minor": 5
}
