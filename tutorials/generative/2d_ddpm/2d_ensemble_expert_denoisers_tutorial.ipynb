{
 "cells": [
  {
   "cell_type": "markdown",
   "id": "afdc6e72",
   "metadata": {},
   "source": [
    "# Ensemble of Expert Denoisers\n",
    "\n",
    "This tutorial illustrates how to use MONAI for training a Ensemble of Expert Denoisers (based on eDiff-I)[1] to create\n",
    "synthetic 2D images.\n",
    "\n",
    "[1] - Balaji et al. \"eDiff-I: Text-to-Image Diffusion Models with an Ensemble of Expert Denoisers\" https://arxiv.org/abs/2211.01324\n",
    "\n",
    "TODO: Add Open in Colab\n",
    "\n",
    "## Setup environment"
   ]
  },
  {
   "cell_type": "code",
   "execution_count": 1,
   "id": "1a50dc58",
   "metadata": {},
   "outputs": [],
   "source": [
    "!python -c \"import monai\" || pip install -q \"monai-weekly[pillow, tqdm, einops]\"\n",
    "!python -c \"import matplotlib\" || pip install -q matplotlib\n",
    "%matplotlib inline"
   ]
  },
  {
   "cell_type": "markdown",
   "id": "37327009",
   "metadata": {},
   "source": [
    "## Setup imports"
   ]
  },
  {
   "cell_type": "code",
   "execution_count": 2,
   "id": "92aa60fe",
   "metadata": {
    "jupyter": {
     "outputs_hidden": false
    }
   },
   "outputs": [
    {
     "name": "stdout",
     "output_type": "stream",
     "text": [
      "MONAI version: 1.1.dev2239\n",
      "Numpy version: 1.23.3\n",
      "Pytorch version: 1.8.0+cu111\n",
      "MONAI flags: HAS_EXT = False, USE_COMPILED = False, USE_META_DICT = False\n",
      "MONAI rev id: 13b24fa92b9d98bd0dc6d5cdcb52504fd09e297b\n",
      "MONAI __file__: /media/walter/Storage/Projects/GenerativeModels/venv/lib/python3.8/site-packages/monai/__init__.py\n",
      "\n",
      "Optional dependencies:\n",
      "Pytorch Ignite version: 0.4.10\n",
      "Nibabel version: 4.0.2\n",
      "scikit-image version: NOT INSTALLED or UNKNOWN VERSION.\n",
      "Pillow version: 9.2.0\n",
      "Tensorboard version: 2.11.0\n",
      "gdown version: NOT INSTALLED or UNKNOWN VERSION.\n",
      "TorchVision version: 0.9.0+cu111\n",
      "tqdm version: 4.64.1\n",
      "lmdb version: NOT INSTALLED or UNKNOWN VERSION.\n",
      "psutil version: 5.9.3\n",
      "pandas version: NOT INSTALLED or UNKNOWN VERSION.\n",
      "einops version: 0.6.0\n",
      "transformers version: NOT INSTALLED or UNKNOWN VERSION.\n",
      "mlflow version: NOT INSTALLED or UNKNOWN VERSION.\n",
      "pynrrd version: NOT INSTALLED or UNKNOWN VERSION.\n",
      "\n",
      "For details about installing the optional dependencies, please visit:\n",
      "    https://docs.monai.io/en/latest/installation.html#installing-the-recommended-dependencies\n",
      "\n"
     ]
    }
   ],
   "source": [
    "# Copyright 2020 MONAI Consortium\n",
    "# Licensed under the Apache License, Version 2.0 (the \"License\");\n",
    "# you may not use this file except in compliance with the License.\n",
    "# You may obtain a copy of the License at\n",
    "#     http://www.apache.org/licenses/LICENSE-2.0\n",
    "# Unless required by applicable law or agreed to in writing, software\n",
    "# distributed under the License is distributed on an \"AS IS\" BASIS,\n",
    "# WITHOUT WARRANTIES OR CONDITIONS OF ANY KIND, either express or implied.\n",
    "# See the License for the specific language governing permissions and\n",
    "# limitations under the License.\n",
    "import os\n",
    "import shutil\n",
    "import tempfile\n",
    "import time\n",
    "\n",
    "import matplotlib.pyplot as plt\n",
    "import numpy as np\n",
    "import torch\n",
    "import torch.nn.functional as F\n",
    "from monai import transforms\n",
    "from monai.apps import MedNISTDataset\n",
    "from monai.config import print_config\n",
    "from monai.data import CacheDataset, DataLoader\n",
    "from monai.utils import first, set_determinism\n",
    "from torch.cuda.amp import GradScaler, autocast\n",
    "from tqdm import tqdm\n",
    "\n",
    "from generative.inferers import DiffusionInferer\n",
    "\n",
    "# TODO: Add right import reference after deployed\n",
    "from generative.networks.nets import DiffusionModelUNet\n",
    "from generative.networks.schedulers import DDPMScheduler\n",
    "\n",
    "print_config()"
   ]
  },
  {
   "cell_type": "markdown",
   "id": "71d38b2b",
   "metadata": {},
   "source": [
    "## Setup data directory\n",
    "\n",
    "You can specify a directory with the MONAI_DATA_DIRECTORY environment variable.\n",
    "\n",
    "This allows you to save results and reuse downloads.\n",
    "\n",
    "If not specified a temporary directory will be used."
   ]
  },
  {
   "cell_type": "code",
   "execution_count": 3,
   "id": "7e80f171",
   "metadata": {
    "jupyter": {
     "outputs_hidden": false
    }
   },
   "outputs": [
    {
     "name": "stdout",
     "output_type": "stream",
     "text": [
      "/tmp/tmpg6pe1sjv\n"
     ]
    }
   ],
   "source": [
    "directory = os.environ.get(\"MONAI_DATA_DIRECTORY\")\n",
    "root_dir = tempfile.mkdtemp() if directory is None else directory\n",
    "print(root_dir)"
   ]
  },
  {
   "cell_type": "markdown",
   "id": "b9d53cf6",
   "metadata": {},
   "source": [
    "## Set deterministic training for reproducibility"
   ]
  },
  {
   "cell_type": "code",
   "execution_count": 4,
   "id": "cba841fe",
   "metadata": {
    "jupyter": {
     "outputs_hidden": false
    }
   },
   "outputs": [],
   "source": [
    "set_determinism(42)"
   ]
  },
  {
   "cell_type": "markdown",
   "id": "cdef0909",
   "metadata": {},
   "source": [
    "## Setup MedNIST Dataset and training and validation dataloaders\n",
    "In this tutorial, we will train our models on the MedNIST dataset available on MONAI\n",
    "(https://docs.monai.io/en/stable/apps.html#monai.apps.MedNISTDataset). In order to train faster, we will select just\n",
    "one of the available classes (\"Hand\"), resulting in a training set with 7999 2D images."
   ]
  },
  {
   "cell_type": "code",
   "execution_count": 5,
   "id": "1a5b14cb",
   "metadata": {
    "jupyter": {
     "outputs_hidden": false
    }
   },
   "outputs": [
    {
     "name": "stdout",
     "output_type": "stream",
     "text": [
      "2022-12-11 22:53:59,954 - INFO - Downloaded: /tmp/tmpg6pe1sjv/MedNIST.tar.gz\n",
      "2022-12-11 22:54:00,027 - INFO - Verified 'MedNIST.tar.gz', md5: 0bc7306e7427e00ad1c5526a6677552d.\n",
      "2022-12-11 22:54:00,027 - INFO - Writing into directory: /tmp/tmpg6pe1sjv.\n"
     ]
    }
   ],
   "source": [
    "train_data = MedNISTDataset(root_dir=root_dir, section=\"training\", download=True, progress=False, seed=0)\n",
    "train_datalist = [{\"image\": item[\"image\"]} for item in train_data.data if item[\"class_name\"] == \"Hand\"]"
   ]
  },
  {
   "cell_type": "markdown",
   "id": "0f1658a7",
   "metadata": {},
   "source": [
    "Here we use transforms to augment the training dataset:\n",
    "\n",
    "1. `LoadImaged` loads the hands images from files.\n",
    "1. `EnsureChannelFirstd` ensures the original data to construct \"channel first\" shape.\n",
    "1. `ScaleIntensityRanged` extracts intensity range [0, 255] and scales to [0, 1].\n",
    "1. `RandAffined` efficiently performs rotate, scale, shear, translate, etc. together based on PyTorch affine transform."
   ]
  },
  {
   "cell_type": "code",
   "execution_count": 6,
   "id": "2f481730",
   "metadata": {
    "jupyter": {
     "outputs_hidden": false
    }
   },
   "outputs": [
    {
     "name": "stderr",
     "output_type": "stream",
     "text": [
      "Loading dataset: 100%|████████████████████████████████████████████████████████████████████████████████████████████████████████████████████████████████████████████████████████████████████| 7999/7999 [00:04<00:00, 1793.29it/s]\n"
     ]
    }
   ],
   "source": [
    "train_transforms = transforms.Compose(\n",
    "    [\n",
    "        transforms.LoadImaged(keys=[\"image\"]),\n",
    "        transforms.EnsureChannelFirstd(keys=[\"image\"]),\n",
    "        transforms.ScaleIntensityRanged(keys=[\"image\"], a_min=0.0, a_max=255.0, b_min=0.0, b_max=1.0, clip=True),\n",
    "        transforms.RandAffined(\n",
    "            keys=[\"image\"],\n",
    "            rotate_range=[(-np.pi / 36, np.pi / 36), (-np.pi / 36, np.pi / 36)],\n",
    "            translate_range=[(-1, 1), (-1, 1)],\n",
    "            scale_range=[(-0.05, 0.05), (-0.05, 0.05)],\n",
    "            spatial_size=[64, 64],\n",
    "            padding_mode=\"zeros\",\n",
    "            prob=0.5,\n",
    "        ),\n",
    "    ]\n",
    ")\n",
    "train_ds = CacheDataset(data=train_datalist, transform=train_transforms)\n",
    "train_loader = DataLoader(train_ds, batch_size=128, shuffle=True, num_workers=4, persistent_workers=True)"
   ]
  },
  {
   "cell_type": "code",
   "execution_count": 7,
   "id": "17e60b3a",
   "metadata": {
    "jupyter": {
     "outputs_hidden": false
    }
   },
   "outputs": [
    {
     "name": "stdout",
     "output_type": "stream",
     "text": [
      "2022-12-11 22:54:23,643 - INFO - Verified 'MedNIST.tar.gz', md5: 0bc7306e7427e00ad1c5526a6677552d.\n",
      "2022-12-11 22:54:23,644 - INFO - File exists: /tmp/tmpg6pe1sjv/MedNIST.tar.gz, skipped downloading.\n",
      "2022-12-11 22:54:23,644 - INFO - Non-empty folder exists in /tmp/tmpg6pe1sjv/MedNIST, skipped extracting.\n"
     ]
    },
    {
     "name": "stderr",
     "output_type": "stream",
     "text": [
      "Loading dataset: 100%|████████████████████████████████████████████████████████████████████████████████████████████████████████████████████████████████████████████████████████████████████| 1005/1005 [00:00<00:00, 1792.23it/s]\n"
     ]
    }
   ],
   "source": [
    "val_data = MedNISTDataset(root_dir=root_dir, section=\"validation\", download=True, progress=False, seed=0)\n",
    "val_datalist = [{\"image\": item[\"image\"]} for item in val_data.data if item[\"class_name\"] == \"Hand\"]\n",
    "val_transforms = transforms.Compose(\n",
    "    [\n",
    "        transforms.LoadImaged(keys=[\"image\"]),\n",
    "        transforms.EnsureChannelFirstd(keys=[\"image\"]),\n",
    "        transforms.ScaleIntensityRanged(keys=[\"image\"], a_min=0.0, a_max=255.0, b_min=0.0, b_max=1.0, clip=True),\n",
    "    ]\n",
    ")\n",
    "val_ds = CacheDataset(data=val_datalist, transform=val_transforms)\n",
    "val_loader = DataLoader(val_ds, batch_size=128, shuffle=False, num_workers=4, persistent_workers=True)"
   ]
  },
  {
   "cell_type": "markdown",
   "id": "fdae6887",
   "metadata": {},
   "source": [
    "### Visualisation of the training images"
   ]
  },
  {
   "cell_type": "code",
   "execution_count": 8,
   "id": "8248d499",
   "metadata": {
    "jupyter": {
     "outputs_hidden": false
    }
   },
   "outputs": [
    {
     "name": "stdout",
     "output_type": "stream",
     "text": [
      "batch shape: (128, 1, 64, 64)\n"
     ]
    },
    {
     "data": {
      "image/png": "[encoded data removed]",
      "text/plain": [
       "<Figure size 1200x600 with 1 Axes>"
      ]
     },
     "metadata": {},
     "output_type": "display_data"
    }
   ],
   "source": [
    "check_data = first(train_loader)\n",
    "print(f\"batch shape: {check_data['image'].shape}\")\n",
    "image_visualisation = torch.cat(\n",
    "    [check_data[\"image\"][0, 0], check_data[\"image\"][1, 0], check_data[\"image\"][2, 0], check_data[\"image\"][3, 0]], dim=1\n",
    ")\n",
    "plt.figure(\"training images\", (12, 6))\n",
    "plt.imshow(image_visualisation, vmin=0, vmax=1, cmap=\"gray\")\n",
    "plt.axis(\"off\")\n",
    "plt.tight_layout()\n",
    "plt.show()"
   ]
  },
  {
   "cell_type": "markdown",
   "id": "825438b0",
   "metadata": {},
   "source": [
    "### Define network, scheduler, optimizer, and inferer\n",
    "At this step, we instantiate the MONAI components to create a DDPM, the UNET, the noise scheduler, and the inferer used for training and sampling. We are using\n",
    "the original DDPM scheduler containing 1000 timesteps in its Markov chain, and a 2D UNET with attention mechanisms\n",
    "in the 2nd and 3rd levels, each with 1 attention head."
   ]
  },
  {
   "cell_type": "code",
   "execution_count": 9,
   "id": "9e4bc9be",
   "metadata": {
    "jupyter": {
     "outputs_hidden": false
    }
   },
   "outputs": [],
   "source": [
    "device = torch.device(\"cuda\")\n",
    "\n",
    "num_experts = 3\n",
    "beta_interval = (0.02 - 0.0001) / num_experts\n",
    "\n",
    "models = []\n",
    "schedulers = []\n",
    "inferers = []\n",
    "for i in range(num_experts):\n",
    "    models.append(\n",
    "        DiffusionModelUNet(\n",
    "            spatial_dims=2,\n",
    "            in_channels=1,\n",
    "            out_channels=1,\n",
    "            num_channels=(128, 256, 256),\n",
    "            attention_levels=(False, True, True),\n",
    "            num_res_blocks=1,\n",
    "            num_head_channels=256,\n",
    "        )\n",
    "    )\n",
    "\n",
    "    scheduler = DDPMScheduler(\n",
    "        num_train_timesteps=333,\n",
    "        beta_start=0.0001 + ((0.02 - 0.0001) / 3) * i,\n",
    "        beta_end=0.0001 + ((0.02 - 0.0001) / 3) * (i + 1),\n",
    "    )\n",
    "    schedulers.append(scheduler)\n",
    "    inferers.append(DiffusionInferer(scheduler))"
   ]
  },
  {
   "cell_type": "markdown",
   "id": "1ba08f97",
   "metadata": {},
   "source": [
    "### Models training"
   ]
  },
  {
   "cell_type": "code",
   "execution_count": 10,
   "id": "90769778",
   "metadata": {
    "jupyter": {
     "outputs_hidden": false
    },
    "lines_to_next_cell": 2
   },
   "outputs": [
    {
     "name": "stderr",
     "output_type": "stream",
     "text": [
      "Epoch 0: 100%|████████████| 63/63 [00:37<00:00,  1.66it/s, loss=0.752]\n",
      "Epoch 1: 100%|████████████| 63/63 [00:38<00:00,  1.62it/s, loss=0.313]\n",
      "Epoch 2: 100%|████████████| 63/63 [00:38<00:00,  1.64it/s, loss=0.117]\n",
      "Epoch 3: 100%|███████████| 63/63 [00:39<00:00,  1.61it/s, loss=0.0599]\n",
      "Epoch 4: 100%|███████████| 63/63 [00:39<00:00,  1.61it/s, loss=0.0454]\n",
      "Epoch 5: 100%|███████████| 63/63 [00:39<00:00,  1.59it/s, loss=0.0403]\n",
      "Epoch 6: 100%|████████████| 63/63 [00:38<00:00,  1.63it/s, loss=0.038]\n",
      "Epoch 7: 100%|███████████| 63/63 [00:37<00:00,  1.67it/s, loss=0.0355]\n",
      "Epoch 8: 100%|███████████| 63/63 [00:39<00:00,  1.61it/s, loss=0.0351]\n",
      "Epoch 9: 100%|███████████| 63/63 [00:38<00:00,  1.62it/s, loss=0.0331]\n",
      "Epoch 10: 100%|██████████| 63/63 [00:38<00:00,  1.63it/s, loss=0.0327]\n",
      "Epoch 11: 100%|██████████| 63/63 [00:38<00:00,  1.62it/s, loss=0.0305]\n",
      "Epoch 12: 100%|██████████| 63/63 [00:38<00:00,  1.64it/s, loss=0.0309]\n",
      "Epoch 13: 100%|███████████| 63/63 [00:37<00:00,  1.67it/s, loss=0.031]\n",
      "Epoch 14: 100%|██████████| 63/63 [00:38<00:00,  1.66it/s, loss=0.0309]\n",
      "Epoch 15: 100%|██████████| 63/63 [00:38<00:00,  1.66it/s, loss=0.0297]\n",
      "Epoch 16: 100%|██████████| 63/63 [00:38<00:00,  1.63it/s, loss=0.0292]\n",
      "Epoch 17: 100%|██████████| 63/63 [00:37<00:00,  1.67it/s, loss=0.0288]\n",
      "Epoch 18: 100%|██████████| 63/63 [00:37<00:00,  1.68it/s, loss=0.0283]\n",
      "Epoch 19: 100%|██████████| 63/63 [00:37<00:00,  1.67it/s, loss=0.0276]\n",
      "Epoch 20: 100%|██████████| 63/63 [00:37<00:00,  1.67it/s, loss=0.0292]\n",
      "Epoch 21: 100%|██████████| 63/63 [00:37<00:00,  1.68it/s, loss=0.0284]\n",
      "Epoch 22: 100%|███████████| 63/63 [00:37<00:00,  1.68it/s, loss=0.028]\n",
      "Epoch 23: 100%|██████████| 63/63 [00:37<00:00,  1.67it/s, loss=0.0286]\n",
      "Epoch 24: 100%|██████████| 63/63 [00:37<00:00,  1.68it/s, loss=0.0279]\n",
      "Epoch 25: 100%|██████████| 63/63 [00:37<00:00,  1.68it/s, loss=0.0266]\n",
      "Epoch 26: 100%|██████████| 63/63 [00:37<00:00,  1.67it/s, loss=0.0272]\n",
      "Epoch 27: 100%|██████████| 63/63 [00:37<00:00,  1.67it/s, loss=0.0262]\n",
      "Epoch 28: 100%|██████████| 63/63 [00:37<00:00,  1.67it/s, loss=0.0268]\n",
      "Epoch 29: 100%|██████████| 63/63 [00:37<00:00,  1.68it/s, loss=0.0264]\n",
      "Epoch 30: 100%|██████████| 63/63 [00:37<00:00,  1.68it/s, loss=0.0261]\n",
      "Epoch 31: 100%|██████████| 63/63 [00:37<00:00,  1.68it/s, loss=0.0266]\n",
      "Epoch 32: 100%|██████████| 63/63 [00:37<00:00,  1.68it/s, loss=0.0258]\n",
      "Epoch 33: 100%|██████████| 63/63 [00:37<00:00,  1.68it/s, loss=0.0263]\n",
      "Epoch 34: 100%|██████████| 63/63 [00:37<00:00,  1.67it/s, loss=0.0254]\n",
      "Epoch 35: 100%|██████████| 63/63 [00:37<00:00,  1.68it/s, loss=0.0261]\n",
      "Epoch 36: 100%|██████████| 63/63 [00:37<00:00,  1.68it/s, loss=0.0251]\n",
      "Epoch 37: 100%|██████████| 63/63 [00:37<00:00,  1.68it/s, loss=0.0256]\n",
      "Epoch 38: 100%|██████████| 63/63 [00:37<00:00,  1.68it/s, loss=0.0251]\n",
      "Epoch 39: 100%|██████████| 63/63 [00:37<00:00,  1.67it/s, loss=0.0243]\n",
      "Epoch 40: 100%|██████████| 63/63 [00:37<00:00,  1.68it/s, loss=0.0263]\n",
      "Epoch 41: 100%|██████████| 63/63 [00:37<00:00,  1.68it/s, loss=0.0256]\n",
      "Epoch 42: 100%|██████████| 63/63 [00:37<00:00,  1.67it/s, loss=0.0248]\n",
      "Epoch 43: 100%|██████████| 63/63 [00:37<00:00,  1.68it/s, loss=0.0249]\n",
      "Epoch 44: 100%|██████████| 63/63 [00:37<00:00,  1.68it/s, loss=0.0252]\n",
      "Epoch 45: 100%|██████████| 63/63 [00:37<00:00,  1.67it/s, loss=0.0249]\n",
      "Epoch 46: 100%|██████████| 63/63 [00:37<00:00,  1.68it/s, loss=0.0246]\n",
      "Epoch 47: 100%|██████████| 63/63 [00:37<00:00,  1.68it/s, loss=0.0246]\n",
      "Epoch 48: 100%|██████████| 63/63 [00:37<00:00,  1.68it/s, loss=0.0253]\n",
      "Epoch 49: 100%|██████████| 63/63 [00:37<00:00,  1.67it/s, loss=0.0244]\n",
      "Epoch 0: 100%|████████████| 63/63 [00:37<00:00,  1.68it/s, loss=0.735]\n",
      "Epoch 1: 100%|████████████| 63/63 [00:37<00:00,  1.67it/s, loss=0.276]\n",
      "Epoch 2: 100%|███████████| 63/63 [00:37<00:00,  1.68it/s, loss=0.0853]\n",
      "Epoch 3: 100%|███████████| 63/63 [00:37<00:00,  1.68it/s, loss=0.0303]\n",
      "Epoch 4: 100%|███████████| 63/63 [00:37<00:00,  1.68it/s, loss=0.0159]\n",
      "Epoch 5: 100%|███████████| 63/63 [00:37<00:00,  1.68it/s, loss=0.0127]\n",
      "Epoch 6: 100%|███████████| 63/63 [00:37<00:00,  1.68it/s, loss=0.0114]\n",
      "Epoch 7: 100%|███████████| 63/63 [00:37<00:00,  1.68it/s, loss=0.0108]\n",
      "Epoch 8: 100%|███████████| 63/63 [00:37<00:00,  1.68it/s, loss=0.0103]\n",
      "Epoch 9: 100%|█████████████| 63/63 [00:37<00:00,  1.68it/s, loss=0.01]\n",
      "Epoch 10: 100%|█████████| 63/63 [00:37<00:00,  1.67it/s, loss=0.00954]\n",
      "Epoch 11: 100%|█████████| 63/63 [00:37<00:00,  1.68it/s, loss=0.00942]\n",
      "Epoch 12: 100%|█████████| 63/63 [00:37<00:00,  1.68it/s, loss=0.00923]\n",
      "Epoch 13: 100%|█████████| 63/63 [00:37<00:00,  1.68it/s, loss=0.00913]\n",
      "Epoch 14: 100%|██████████| 63/63 [00:37<00:00,  1.68it/s, loss=0.0089]\n",
      "Epoch 15: 100%|█████████| 63/63 [00:37<00:00,  1.67it/s, loss=0.00878]\n",
      "Epoch 16: 100%|█████████| 63/63 [00:37<00:00,  1.68it/s, loss=0.00872]\n",
      "Epoch 17: 100%|█████████| 63/63 [00:37<00:00,  1.68it/s, loss=0.00868]\n",
      "Epoch 18: 100%|█████████| 63/63 [00:37<00:00,  1.67it/s, loss=0.00844]\n",
      "Epoch 19: 100%|█████████| 63/63 [00:37<00:00,  1.68it/s, loss=0.00814]\n",
      "Epoch 20: 100%|█████████| 63/63 [00:37<00:00,  1.68it/s, loss=0.00794]\n",
      "Epoch 21: 100%|█████████| 63/63 [00:37<00:00,  1.67it/s, loss=0.00832]\n",
      "Epoch 22: 100%|█████████| 63/63 [00:37<00:00,  1.68it/s, loss=0.00798]\n",
      "Epoch 23: 100%|██████████| 63/63 [00:37<00:00,  1.68it/s, loss=0.0081]\n",
      "Epoch 24: 100%|█████████| 63/63 [00:37<00:00,  1.67it/s, loss=0.00796]\n",
      "Epoch 25: 100%|█████████| 63/63 [00:37<00:00,  1.68it/s, loss=0.00776]\n",
      "Epoch 26: 100%|█████████| 63/63 [00:37<00:00,  1.67it/s, loss=0.00793]\n",
      "Epoch 27: 100%|██████████| 63/63 [00:37<00:00,  1.68it/s, loss=0.0077]\n",
      "Epoch 28: 100%|█████████| 63/63 [00:37<00:00,  1.67it/s, loss=0.00773]\n",
      "Epoch 29: 100%|█████████| 63/63 [00:37<00:00,  1.68it/s, loss=0.00786]\n",
      "Epoch 30: 100%|█████████| 63/63 [00:37<00:00,  1.68it/s, loss=0.00761]\n",
      "Epoch 31: 100%|█████████| 63/63 [00:37<00:00,  1.67it/s, loss=0.00759]\n",
      "Epoch 32: 100%|█████████| 63/63 [00:37<00:00,  1.67it/s, loss=0.00748]\n",
      "Epoch 33: 100%|█████████| 63/63 [00:37<00:00,  1.68it/s, loss=0.00747]\n",
      "Epoch 34: 100%|█████████| 63/63 [00:37<00:00,  1.67it/s, loss=0.00745]\n",
      "Epoch 35: 100%|█████████| 63/63 [00:37<00:00,  1.68it/s, loss=0.00751]\n",
      "Epoch 36: 100%|█████████| 63/63 [00:37<00:00,  1.68it/s, loss=0.00734]\n",
      "Epoch 37: 100%|█████████| 63/63 [00:37<00:00,  1.68it/s, loss=0.00755]\n",
      "Epoch 38: 100%|█████████| 63/63 [00:37<00:00,  1.68it/s, loss=0.00731]\n",
      "Epoch 39: 100%|█████████| 63/63 [00:37<00:00,  1.68it/s, loss=0.00748]\n",
      "Epoch 40: 100%|█████████| 63/63 [00:37<00:00,  1.68it/s, loss=0.00731]\n",
      "Epoch 41: 100%|█████████| 63/63 [00:37<00:00,  1.68it/s, loss=0.00714]\n",
      "Epoch 42: 100%|█████████| 63/63 [00:37<00:00,  1.68it/s, loss=0.00719]\n",
      "Epoch 43: 100%|██████████| 63/63 [00:37<00:00,  1.67it/s, loss=0.0073]\n",
      "Epoch 44: 100%|█████████| 63/63 [00:37<00:00,  1.68it/s, loss=0.00711]\n",
      "Epoch 45: 100%|█████████| 63/63 [00:37<00:00,  1.68it/s, loss=0.00738]\n",
      "Epoch 46: 100%|█████████| 63/63 [00:37<00:00,  1.68it/s, loss=0.00718]\n",
      "Epoch 47: 100%|█████████| 63/63 [00:37<00:00,  1.67it/s, loss=0.00713]\n",
      "Epoch 48: 100%|█████████| 63/63 [00:37<00:00,  1.68it/s, loss=0.00718]\n",
      "Epoch 49: 100%|█████████| 63/63 [00:37<00:00,  1.68it/s, loss=0.00701]\n",
      "Epoch 0: 100%|████████████| 63/63 [00:37<00:00,  1.68it/s, loss=0.733]\n",
      "Epoch 1: 100%|████████████| 63/63 [00:37<00:00,  1.67it/s, loss=0.269]\n",
      "Epoch 2: 100%|███████████| 63/63 [00:37<00:00,  1.68it/s, loss=0.0794]\n",
      "Epoch 3: 100%|███████████| 63/63 [00:37<00:00,  1.68it/s, loss=0.0245]\n",
      "Epoch 4: 100%|███████████| 63/63 [00:37<00:00,  1.68it/s, loss=0.0109]\n",
      "Epoch 5: 100%|██████████| 63/63 [00:37<00:00,  1.68it/s, loss=0.00801]\n",
      "Epoch 6: 100%|██████████| 63/63 [00:37<00:00,  1.68it/s, loss=0.00722]\n",
      "Epoch 7: 100%|███████████| 63/63 [00:37<00:00,  1.67it/s, loss=0.0068]\n",
      "Epoch 8: 100%|██████████| 63/63 [00:37<00:00,  1.68it/s, loss=0.00612]\n",
      "Epoch 9: 100%|██████████| 63/63 [00:37<00:00,  1.68it/s, loss=0.00621]\n",
      "Epoch 10: 100%|█████████| 63/63 [00:37<00:00,  1.67it/s, loss=0.00598]\n",
      "Epoch 11: 100%|█████████| 63/63 [00:37<00:00,  1.68it/s, loss=0.00581]\n",
      "Epoch 12: 100%|█████████| 63/63 [00:37<00:00,  1.67it/s, loss=0.00581]\n",
      "Epoch 13: 100%|█████████| 63/63 [00:37<00:00,  1.67it/s, loss=0.00564]\n",
      "Epoch 14: 100%|█████████| 63/63 [00:37<00:00,  1.68it/s, loss=0.00539]\n"
     ]
    },
    {
     "name": "stderr",
     "output_type": "stream",
     "text": [
      "Epoch 15: 100%|██████████| 63/63 [00:37<00:00,  1.68it/s, loss=0.0053]\n",
      "Epoch 16: 100%|█████████| 63/63 [00:37<00:00,  1.68it/s, loss=0.00543]\n",
      "Epoch 17: 100%|█████████| 63/63 [00:37<00:00,  1.68it/s, loss=0.00515]\n",
      "Epoch 18: 100%|██████████| 63/63 [00:37<00:00,  1.67it/s, loss=0.0053]\n",
      "Epoch 19: 100%|█████████| 63/63 [00:37<00:00,  1.68it/s, loss=0.00524]\n",
      "Epoch 20: 100%|█████████| 63/63 [00:37<00:00,  1.68it/s, loss=0.00529]\n",
      "Epoch 21: 100%|█████████| 63/63 [00:37<00:00,  1.68it/s, loss=0.00514]\n",
      "Epoch 22: 100%|█████████| 63/63 [00:37<00:00,  1.68it/s, loss=0.00531]\n",
      "Epoch 23: 100%|█████████| 63/63 [00:37<00:00,  1.68it/s, loss=0.00509]\n",
      "Epoch 24: 100%|█████████| 63/63 [00:37<00:00,  1.68it/s, loss=0.00507]\n",
      "Epoch 25: 100%|█████████| 63/63 [00:37<00:00,  1.68it/s, loss=0.00485]\n",
      "Epoch 26: 100%|█████████| 63/63 [00:37<00:00,  1.67it/s, loss=0.00503]\n",
      "Epoch 27: 100%|█████████| 63/63 [00:37<00:00,  1.68it/s, loss=0.00492]\n",
      "Epoch 28: 100%|█████████| 63/63 [00:37<00:00,  1.68it/s, loss=0.00484]\n",
      "Epoch 29: 100%|█████████| 63/63 [00:37<00:00,  1.68it/s, loss=0.00499]\n",
      "Epoch 30: 100%|█████████| 63/63 [00:37<00:00,  1.68it/s, loss=0.00474]\n",
      "Epoch 31: 100%|█████████| 63/63 [00:37<00:00,  1.68it/s, loss=0.00483]\n",
      "Epoch 32: 100%|█████████| 63/63 [00:37<00:00,  1.68it/s, loss=0.00483]\n",
      "Epoch 33: 100%|█████████| 63/63 [00:37<00:00,  1.68it/s, loss=0.00466]\n",
      "Epoch 34: 100%|█████████| 63/63 [00:37<00:00,  1.68it/s, loss=0.00478]\n",
      "Epoch 35: 100%|█████████| 63/63 [00:37<00:00,  1.67it/s, loss=0.00469]\n",
      "Epoch 36: 100%|█████████| 63/63 [00:37<00:00,  1.68it/s, loss=0.00461]\n",
      "Epoch 37: 100%|█████████| 63/63 [00:37<00:00,  1.68it/s, loss=0.00477]\n",
      "Epoch 38: 100%|█████████| 63/63 [00:37<00:00,  1.68it/s, loss=0.00472]\n",
      "Epoch 39: 100%|█████████| 63/63 [00:37<00:00,  1.68it/s, loss=0.00464]\n",
      "Epoch 40: 100%|█████████| 63/63 [00:37<00:00,  1.68it/s, loss=0.00464]\n",
      "Epoch 41: 100%|█████████| 63/63 [00:37<00:00,  1.68it/s, loss=0.00446]\n",
      "Epoch 42: 100%|█████████| 63/63 [00:37<00:00,  1.68it/s, loss=0.00447]\n",
      "Epoch 43: 100%|█████████| 63/63 [00:37<00:00,  1.68it/s, loss=0.00457]\n",
      "Epoch 44: 100%|█████████| 63/63 [00:37<00:00,  1.67it/s, loss=0.00454]\n",
      "Epoch 45: 100%|█████████| 63/63 [00:37<00:00,  1.68it/s, loss=0.00457]\n",
      "Epoch 46: 100%|█████████| 63/63 [00:37<00:00,  1.68it/s, loss=0.00441]\n",
      "Epoch 47: 100%|█████████| 63/63 [00:37<00:00,  1.68it/s, loss=0.00439]\n",
      "Epoch 48: 100%|█████████| 63/63 [00:37<00:00,  1.68it/s, loss=0.00439]\n",
      "Epoch 49: 100%|█████████| 63/63 [00:37<00:00,  1.68it/s, loss=0.00442]\n"
     ]
    }
   ],
   "source": [
    "for model, scheduler, inferer in zip(models, schedulers, inferers):\n",
    "    model.to(device)\n",
    "    optimizer = torch.optim.AdamW(params=model.parameters(), lr=2.5e-5)\n",
    "\n",
    "    n_epochs = 50\n",
    "    scaler = GradScaler()\n",
    "    for epoch in range(n_epochs):\n",
    "        model.train()\n",
    "        epoch_loss = 0\n",
    "        progress_bar = tqdm(enumerate(train_loader), total=len(train_loader), ncols=70)\n",
    "        progress_bar.set_description(f\"Epoch {epoch}\")\n",
    "        for step, batch in progress_bar:\n",
    "            images = batch[\"image\"].to(device)\n",
    "            optimizer.zero_grad(set_to_none=True)\n",
    "\n",
    "            with autocast(enabled=True):\n",
    "                # Generate random noise\n",
    "                noise = torch.randn_like(images).to(device)\n",
    "\n",
    "                # Get model prediction\n",
    "                noise_pred = inferer(inputs=images, diffusion_model=model, noise=noise)\n",
    "\n",
    "                loss = F.mse_loss(noise_pred.float(), noise.float())\n",
    "\n",
    "            scaler.scale(loss).backward()\n",
    "            scaler.step(optimizer)\n",
    "            scaler.update()\n",
    "\n",
    "            epoch_loss += loss.item()\n",
    "\n",
    "            progress_bar.set_postfix(\n",
    "                {\n",
    "                    \"loss\": epoch_loss / (step + 1),\n",
    "                }\n",
    "            )\n",
    "    model.to(torch.device(\"cpu\"))"
   ]
  },
  {
   "cell_type": "markdown",
   "id": "063f770b",
   "metadata": {},
   "source": [
    "### Plotting sampling process along DDPM's Markov chain"
   ]
  },
  {
   "cell_type": "code",
   "execution_count": 13,
   "id": "fc9bc149",
   "metadata": {
    "jupyter": {
     "outputs_hidden": false
    }
   },
   "outputs": [
    {
     "name": "stderr",
     "output_type": "stream",
     "text": [
      "100%|█████████████████████████████████████████████████████████████████████████████████████████████████████████████████████████████████████████████████████████████████████████████████████████| 333/333 [00:04<00:00, 72.16it/s]\n",
      "100%|█████████████████████████████████████████████████████████████████████████████████████████████████████████████████████████████████████████████████████████████████████████████████████████| 333/333 [00:04<00:00, 72.09it/s]\n",
      "100%|█████████████████████████████████████████████████████████████████████████████████████████████████████████████████████████████████████████████████████████████████████████████████████████| 333/333 [00:04<00:00, 71.67it/s]\n"
     ]
    },
    {
     "data": {
      "image/png": "[encoded data removed]",
      "text/plain": [
       "<Figure size 640x480 with 1 Axes>"
      ]
     },
     "metadata": {},
     "output_type": "display_data"
    }
   ],
   "source": [
    "noise = torch.randn((1, 1, 64, 64))\n",
    "noise = noise.to(device)\n",
    "\n",
    "for model, scheduler, inferer in zip(models, schedulers, inferers):\n",
    "    model.eval()\n",
    "    model.to(device)\n",
    "\n",
    "    scheduler.set_timesteps(num_inference_steps=333)\n",
    "    with autocast(enabled=True):\n",
    "        image = inferer.sample(input_noise=noise, diffusion_model=model, scheduler=scheduler)\n",
    "\n",
    "plt.style.use(\"default\")\n",
    "plt.imshow(image[0, 0].cpu(), vmin=0, vmax=1, cmap=\"gray\")\n",
    "plt.tight_layout()\n",
    "plt.axis(\"off\")\n",
    "plt.show()"
   ]
  },
  {
   "cell_type": "markdown",
   "id": "81df379b",
   "metadata": {},
   "source": [
    "### Cleanup data directory\n",
    "\n",
    "Remove directory if a temporary was used."
   ]
  },
  {
   "cell_type": "code",
   "execution_count": 12,
   "id": "e85ba7da",
   "metadata": {},
   "outputs": [],
   "source": [
    "if directory is None:\n",
    "    shutil.rmtree(root_dir)"
   ]
  }
 ],
 "metadata": {
  "jupytext": {
   "formats": "py:percent,ipynb"
  },
  "kernelspec": {
   "display_name": "Python 3",
   "language": "python",
   "name": "python3"
  },
  "language_info": {
   "codemirror_mode": {
    "name": "ipython",
    "version": 3
   },
   "file_extension": ".py",
   "mimetype": "text/x-python",
   "name": "python",
   "nbconvert_exporter": "python",
   "pygments_lexer": "ipython3",
   "version": "3.8.12"
  }
 },
 "nbformat": 4,
 "nbformat_minor": 5
}
